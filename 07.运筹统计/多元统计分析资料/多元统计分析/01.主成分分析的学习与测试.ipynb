{
 "cells": [
  {
   "cell_type": "code",
   "id": "initial_id",
   "metadata": {
    "collapsed": true,
    "ExecuteTime": {
     "end_time": "2024-04-10T21:24:33.158197Z",
     "start_time": "2024-04-10T21:24:33.149436Z"
    }
   },
   "source": [
    "import pandas as pd\n",
    "import numpy as np\n",
    "\n",
    "# 基于协方差法进行主成分分析\n",
    "dataset = pd.read_table('./datas/例5-1.txt',index_col=0,sep='\\t')\n",
    "labels = dataset.columns\n",
    "# 计算指标之间的协方差矩阵 Covariance Matrix\n",
    "cov_mat = np.cov(dataset, rowvar=False)"
   ],
   "outputs": [],
   "execution_count": 79
  },
  {
   "metadata": {},
   "cell_type": "markdown",
   "source": "各变量的量纲差别不大时，可以选择从协方差阵出发求解主成分， 这样可以更多的保留各变量自身的变异。",
   "id": "a5b6ad0096534e4d"
  },
  {
   "metadata": {
    "ExecuteTime": {
     "end_time": "2024-04-10T21:24:34.076190Z",
     "start_time": "2024-04-10T21:24:34.055774Z"
    }
   },
   "cell_type": "code",
   "source": [
    "# 计算特征值和特征向量\n",
    "eig_value, eig_vector = np.linalg.eig(cov_mat)\n",
    "# 将特征值与特征向量对应起来，并对其进行排序\n",
    "eigdf = pd.DataFrame(eig_vector.T).join(pd.DataFrame(eig_value, dtype=float, columns=[\"eig_value\"]))\n",
    "eigdf.index = labels\n",
    "eigdf = eigdf.sort_values(\"eig_value\")[::-1]\n",
    "eigdf['cumlam'] = eigdf['eig_value'].apply(lambda x: x/eigdf['eig_value'].sum())\n",
    "eigdf['ccve'] = eigdf['cumlam'].cumsum()\n",
    "eigdf[['eig_value','cumlam','ccve']]"
   ],
   "id": "cb72209c71a7bd6",
   "outputs": [
    {
     "data": {
      "text/plain": [
       "       eig_value    cumlam      ccve\n",
       "X1  7.683653e+08  0.823020  0.823020\n",
       "X2  8.268525e+07  0.088567  0.911587\n",
       "X3  2.924922e+07  0.031330  0.942916\n",
       "X4  1.721586e+07  0.018440  0.961357\n",
       "X5  1.429627e+07  0.015313  0.976670\n",
       "X7  7.511072e+06  0.008045  0.984715\n",
       "X9  6.169207e+06  0.006608  0.991323\n",
       "X8  5.030735e+06  0.005389  0.996712\n",
       "X6  3.069824e+06  0.003288  1.000000"
      ],
      "text/html": [
       "<div>\n",
       "<style scoped>\n",
       "    .dataframe tbody tr th:only-of-type {\n",
       "        vertical-align: middle;\n",
       "    }\n",
       "\n",
       "    .dataframe tbody tr th {\n",
       "        vertical-align: top;\n",
       "    }\n",
       "\n",
       "    .dataframe thead th {\n",
       "        text-align: right;\n",
       "    }\n",
       "</style>\n",
       "<table border=\"1\" class=\"dataframe\">\n",
       "  <thead>\n",
       "    <tr style=\"text-align: right;\">\n",
       "      <th></th>\n",
       "      <th>eig_value</th>\n",
       "      <th>cumlam</th>\n",
       "      <th>ccve</th>\n",
       "    </tr>\n",
       "  </thead>\n",
       "  <tbody>\n",
       "    <tr>\n",
       "      <th>X1</th>\n",
       "      <td>7.683653e+08</td>\n",
       "      <td>0.823020</td>\n",
       "      <td>0.823020</td>\n",
       "    </tr>\n",
       "    <tr>\n",
       "      <th>X2</th>\n",
       "      <td>8.268525e+07</td>\n",
       "      <td>0.088567</td>\n",
       "      <td>0.911587</td>\n",
       "    </tr>\n",
       "    <tr>\n",
       "      <th>X3</th>\n",
       "      <td>2.924922e+07</td>\n",
       "      <td>0.031330</td>\n",
       "      <td>0.942916</td>\n",
       "    </tr>\n",
       "    <tr>\n",
       "      <th>X4</th>\n",
       "      <td>1.721586e+07</td>\n",
       "      <td>0.018440</td>\n",
       "      <td>0.961357</td>\n",
       "    </tr>\n",
       "    <tr>\n",
       "      <th>X5</th>\n",
       "      <td>1.429627e+07</td>\n",
       "      <td>0.015313</td>\n",
       "      <td>0.976670</td>\n",
       "    </tr>\n",
       "    <tr>\n",
       "      <th>X7</th>\n",
       "      <td>7.511072e+06</td>\n",
       "      <td>0.008045</td>\n",
       "      <td>0.984715</td>\n",
       "    </tr>\n",
       "    <tr>\n",
       "      <th>X9</th>\n",
       "      <td>6.169207e+06</td>\n",
       "      <td>0.006608</td>\n",
       "      <td>0.991323</td>\n",
       "    </tr>\n",
       "    <tr>\n",
       "      <th>X8</th>\n",
       "      <td>5.030735e+06</td>\n",
       "      <td>0.005389</td>\n",
       "      <td>0.996712</td>\n",
       "    </tr>\n",
       "    <tr>\n",
       "      <th>X6</th>\n",
       "      <td>3.069824e+06</td>\n",
       "      <td>0.003288</td>\n",
       "      <td>1.000000</td>\n",
       "    </tr>\n",
       "  </tbody>\n",
       "</table>\n",
       "</div>"
      ]
     },
     "execution_count": 80,
     "metadata": {},
     "output_type": "execute_result"
    }
   ],
   "execution_count": 80
  },
  {
   "metadata": {},
   "cell_type": "markdown",
   "source": [
    "特征值$\\lambda_i$的含义是$Y_k$的方差贡献率，代表着$Y_k$综合$\\mathbf{X}$信息的能力。这里可以说\n",
    "\n",
    "第一主成分的方差贡献率为82.302%，是保留的特征根占所有特征根的和的比值，可见第一主成分解释原始变量总差异的效果比较好。\n",
    "第二主成分的方差贡献率为8.857%，这个相对第一主成分贡献率低很多。可以选择1个或两个，这里选择两个。\n",
    "第一主成分与第二主成分的和称为累计贡献率，代表着$Y_1$和$Y_2$总共能代表$\\mathbf{X}$的多少信息，可以看到我们选择的主成分打开可以解释原矩阵91.159%的信息。"
   ],
   "id": "696453f3721fa87e"
  },
  {
   "metadata": {
    "ExecuteTime": {
     "end_time": "2024-04-10T21:24:34.862477Z",
     "start_time": "2024-04-10T21:24:34.707023Z"
    }
   },
   "cell_type": "code",
   "source": [
    "import matplotlib.pyplot as plt\n",
    "eigdf['eig_value'].plot(linestyle='-', linewidth=3, color='grey', marker = \"o\",markeredgecolor='k',alpha=0.9,markersize='10',markeredgewidth=1.5)\n",
    "plt.grid(ls = \"--\",axis='y', lw = 0.25, color = \"#4E616C\")\n",
    "plt.axhline(y=8.268525e+07-4e7, xmin=-1, xmax=10, color='black', linestyle=':')\n",
    "plt.show()"
   ],
   "id": "bba7285d87387b6c",
   "outputs": [
    {
     "data": {
      "text/plain": [
       "<Figure size 640x480 with 1 Axes>"
      ],
      "image/png": "[encoded data removed]"
     },
     "metadata": {},
     "output_type": "display_data"
    }
   ],
   "execution_count": 81
  },
  {
   "metadata": {
    "ExecuteTime": {
     "end_time": "2024-04-10T21:24:34.999048Z",
     "start_time": "2024-04-10T21:24:34.984855Z"
    }
   },
   "cell_type": "code",
   "source": [
    "# 主成分特征向量\n",
    "# 获取与特征值对应的特征向量（排序后）\n",
    "eig_vector = eigdf.iloc[:, :9].T\n",
    "n_pcl = 2\n",
    "pcl_vector = eig_vector.iloc[:, :n_pcl]\n",
    "print(f'前{n_pcl}个主成分：')\n",
    "for i in range(pcl_vector.shape[1]):\n",
    "    k = pcl_vector.iloc[:, i]\n",
    "    ss = [f'{k[j]:+.3f}' + f'*X{j+1}' for j in range(len(k))]\n",
    "    print(f'Y{i+1}={\"\".join(ss) if \"\".join(ss).startswith(\"-\") else \"\".join(ss)[1:]}')\n",
    "\n",
    "pcl_vector"
   ],
   "id": "c2fa2651879c071e",
   "outputs": [
    {
     "name": "stdout",
     "output_type": "stream",
     "text": [
      "前2个主成分：\n",
      "Y1=-0.119*X1-0.232*X2-0.169*X3-0.145*X4-0.130*X5-0.744*X6-0.409*X7-0.253*X8-0.283*X9\n",
      "Y2=-0.320*X1-0.357*X2-0.353*X3-0.384*X4-0.275*X5+0.511*X6+0.074*X7-0.123*X8-0.375*X9\n"
     ]
    },
    {
     "data": {
      "text/plain": [
       "         X1        X2\n",
       "0 -0.119186 -0.319971\n",
       "1 -0.232096 -0.356935\n",
       "2 -0.169432 -0.353153\n",
       "3 -0.145298 -0.384201\n",
       "4 -0.130296 -0.275462\n",
       "5 -0.743832  0.510641\n",
       "6 -0.409132  0.073737\n",
       "7 -0.253333 -0.123219\n",
       "8 -0.283334 -0.375013"
      ],
      "text/html": [
       "<div>\n",
       "<style scoped>\n",
       "    .dataframe tbody tr th:only-of-type {\n",
       "        vertical-align: middle;\n",
       "    }\n",
       "\n",
       "    .dataframe tbody tr th {\n",
       "        vertical-align: top;\n",
       "    }\n",
       "\n",
       "    .dataframe thead th {\n",
       "        text-align: right;\n",
       "    }\n",
       "</style>\n",
       "<table border=\"1\" class=\"dataframe\">\n",
       "  <thead>\n",
       "    <tr style=\"text-align: right;\">\n",
       "      <th></th>\n",
       "      <th>X1</th>\n",
       "      <th>X2</th>\n",
       "    </tr>\n",
       "  </thead>\n",
       "  <tbody>\n",
       "    <tr>\n",
       "      <th>0</th>\n",
       "      <td>-0.119186</td>\n",
       "      <td>-0.319971</td>\n",
       "    </tr>\n",
       "    <tr>\n",
       "      <th>1</th>\n",
       "      <td>-0.232096</td>\n",
       "      <td>-0.356935</td>\n",
       "    </tr>\n",
       "    <tr>\n",
       "      <th>2</th>\n",
       "      <td>-0.169432</td>\n",
       "      <td>-0.353153</td>\n",
       "    </tr>\n",
       "    <tr>\n",
       "      <th>3</th>\n",
       "      <td>-0.145298</td>\n",
       "      <td>-0.384201</td>\n",
       "    </tr>\n",
       "    <tr>\n",
       "      <th>4</th>\n",
       "      <td>-0.130296</td>\n",
       "      <td>-0.275462</td>\n",
       "    </tr>\n",
       "    <tr>\n",
       "      <th>5</th>\n",
       "      <td>-0.743832</td>\n",
       "      <td>0.510641</td>\n",
       "    </tr>\n",
       "    <tr>\n",
       "      <th>6</th>\n",
       "      <td>-0.409132</td>\n",
       "      <td>0.073737</td>\n",
       "    </tr>\n",
       "    <tr>\n",
       "      <th>7</th>\n",
       "      <td>-0.253333</td>\n",
       "      <td>-0.123219</td>\n",
       "    </tr>\n",
       "    <tr>\n",
       "      <th>8</th>\n",
       "      <td>-0.283334</td>\n",
       "      <td>-0.375013</td>\n",
       "    </tr>\n",
       "  </tbody>\n",
       "</table>\n",
       "</div>"
      ]
     },
     "execution_count": 82,
     "metadata": {},
     "output_type": "execute_result"
    }
   ],
   "execution_count": 82
  },
  {
   "metadata": {},
   "cell_type": "markdown",
   "source": "所谓的主成分就是$Y_i=\\gamma_i^T\\mathbf{X}$，所谓的$\\gamma_i^T$就是我们的特征向量的转置，我们取前两个特征向量即可。",
   "id": "76cebd5577d0fe67"
  },
  {
   "metadata": {
    "ExecuteTime": {
     "end_time": "2024-04-10T21:24:35.370247Z",
     "start_time": "2024-04-10T21:24:35.361555Z"
    }
   },
   "cell_type": "code",
   "source": [
    "# 计算因子载荷矩阵\n",
    "# 取出前两个特征值，开方后，将其对角化\n",
    "eigmat = np.diag(np.sqrt(eig_value[:n_pcl]))\n",
    "# 特征向量分别矩阵乘 对角化矩阵\n",
    "gamma = pcl_vector.dot(eigmat)\n",
    "sigma = np.sqrt(np.diag(cov_mat))\n",
    "# 载荷矩阵\n",
    "loadings = (gamma.T/sigma).T\n",
    "loadings"
   ],
   "id": "e019a75dc73d2dfd",
   "outputs": [
    {
     "data": {
      "text/plain": [
       "          0         1\n",
       "0 -0.647873 -0.570564\n",
       "1 -0.846992 -0.427297\n",
       "2 -0.659039 -0.450619\n",
       "3 -0.663666 -0.575677\n",
       "4 -0.736866 -0.511033\n",
       "5 -0.971731  0.218835\n",
       "6 -0.932051  0.055105\n",
       "7 -0.909904 -0.145181\n",
       "8 -0.875783 -0.380255"
      ],
      "text/html": [
       "<div>\n",
       "<style scoped>\n",
       "    .dataframe tbody tr th:only-of-type {\n",
       "        vertical-align: middle;\n",
       "    }\n",
       "\n",
       "    .dataframe tbody tr th {\n",
       "        vertical-align: top;\n",
       "    }\n",
       "\n",
       "    .dataframe thead th {\n",
       "        text-align: right;\n",
       "    }\n",
       "</style>\n",
       "<table border=\"1\" class=\"dataframe\">\n",
       "  <thead>\n",
       "    <tr style=\"text-align: right;\">\n",
       "      <th></th>\n",
       "      <th>0</th>\n",
       "      <th>1</th>\n",
       "    </tr>\n",
       "  </thead>\n",
       "  <tbody>\n",
       "    <tr>\n",
       "      <th>0</th>\n",
       "      <td>-0.647873</td>\n",
       "      <td>-0.570564</td>\n",
       "    </tr>\n",
       "    <tr>\n",
       "      <th>1</th>\n",
       "      <td>-0.846992</td>\n",
       "      <td>-0.427297</td>\n",
       "    </tr>\n",
       "    <tr>\n",
       "      <th>2</th>\n",
       "      <td>-0.659039</td>\n",
       "      <td>-0.450619</td>\n",
       "    </tr>\n",
       "    <tr>\n",
       "      <th>3</th>\n",
       "      <td>-0.663666</td>\n",
       "      <td>-0.575677</td>\n",
       "    </tr>\n",
       "    <tr>\n",
       "      <th>4</th>\n",
       "      <td>-0.736866</td>\n",
       "      <td>-0.511033</td>\n",
       "    </tr>\n",
       "    <tr>\n",
       "      <th>5</th>\n",
       "      <td>-0.971731</td>\n",
       "      <td>0.218835</td>\n",
       "    </tr>\n",
       "    <tr>\n",
       "      <th>6</th>\n",
       "      <td>-0.932051</td>\n",
       "      <td>0.055105</td>\n",
       "    </tr>\n",
       "    <tr>\n",
       "      <th>7</th>\n",
       "      <td>-0.909904</td>\n",
       "      <td>-0.145181</td>\n",
       "    </tr>\n",
       "    <tr>\n",
       "      <th>8</th>\n",
       "      <td>-0.875783</td>\n",
       "      <td>-0.380255</td>\n",
       "    </tr>\n",
       "  </tbody>\n",
       "</table>\n",
       "</div>"
      ]
     },
     "execution_count": 83,
     "metadata": {},
     "output_type": "execute_result"
    }
   ],
   "execution_count": 83
  },
  {
   "metadata": {},
   "cell_type": "markdown",
   "source": [
    "因子载荷含义为主成分$Y_j$与原始变量$X_i$的相关系数，$\\rho(Y_k,X_i)=\\frac{\\gamma_{ik}\\sqrt{\\lambda_k}}{\\sqrt{\\sigma_{ii}}}$，这里我们先计算了特征向量与开方特征值的乘积$\\gamma_{ik}\\sqrt{\\lambda_k}$，后续除以$\\sqrt{\\sigma_{ii}}$，它就是原矩阵协方差阵的对角线元素。\n",
    "\n",
    "进一步思考因子载荷的意义，首先竖着来看，竖着各个元素平方后乘以$\\sigma_{ii}$ 求和 就又算回了特征值，所以竖着看代表着 $Y_i$承载$\\mathbf{X}$信息的能力。\n",
    "\n",
    "横着来看，$(-0.64)^2$表示$X_1$对$Y_1$的贡献，$(-0.57)^2$表示$X_1$对$Y_2$的贡献，$(-0.64)^2+(-0.57)^2$代表$X_1$对主成分的合计贡献。因此因子负荷量的绝对值反映了$X_i$对$Y_k$的重要程度，刻画了原始变量对某主成分的主要意义及其贡献程度。\n",
    "\n",
    "从第一主成分对应的因子负荷量可看到，X6-9在第一主成分中占较大比重，说明第一主成分主要综合了第三产业的就业人员的工资水平。第二主成分对应的因子负荷量主要是X6、X7和X8比较少，其他相差不多。"
   ],
   "id": "a18cb358cf37be64"
  },
  {
   "metadata": {
    "ExecuteTime": {
     "end_time": "2024-04-10T21:24:36.369468Z",
     "start_time": "2024-04-10T21:24:36.356423Z"
    }
   },
   "cell_type": "code",
   "source": [
    "# 如下矩阵分别反映了X1-9对主成分1-2的贡献，横竖求和各具备不同的含义。\n",
    "# 贡献率矩阵\n",
    "VV = np.square(loadings)\n",
    "# print(f\"该主成分占所有主成分对原始变量方差贡献率总和之比：{np.sum(np.array(VV))/9:.3%}\")\n",
    "VV"
   ],
   "id": "68b4c8fd9c2b9e7",
   "outputs": [
    {
     "data": {
      "text/plain": [
       "          0         1\n",
       "0  0.419740  0.325543\n",
       "1  0.717396  0.182583\n",
       "2  0.434332  0.203057\n",
       "3  0.440452  0.331404\n",
       "4  0.542972  0.261155\n",
       "5  0.944261  0.047889\n",
       "6  0.868719  0.003037\n",
       "7  0.827926  0.021078\n",
       "8  0.766995  0.144593"
      ],
      "text/html": [
       "<div>\n",
       "<style scoped>\n",
       "    .dataframe tbody tr th:only-of-type {\n",
       "        vertical-align: middle;\n",
       "    }\n",
       "\n",
       "    .dataframe tbody tr th {\n",
       "        vertical-align: top;\n",
       "    }\n",
       "\n",
       "    .dataframe thead th {\n",
       "        text-align: right;\n",
       "    }\n",
       "</style>\n",
       "<table border=\"1\" class=\"dataframe\">\n",
       "  <thead>\n",
       "    <tr style=\"text-align: right;\">\n",
       "      <th></th>\n",
       "      <th>0</th>\n",
       "      <th>1</th>\n",
       "    </tr>\n",
       "  </thead>\n",
       "  <tbody>\n",
       "    <tr>\n",
       "      <th>0</th>\n",
       "      <td>0.419740</td>\n",
       "      <td>0.325543</td>\n",
       "    </tr>\n",
       "    <tr>\n",
       "      <th>1</th>\n",
       "      <td>0.717396</td>\n",
       "      <td>0.182583</td>\n",
       "    </tr>\n",
       "    <tr>\n",
       "      <th>2</th>\n",
       "      <td>0.434332</td>\n",
       "      <td>0.203057</td>\n",
       "    </tr>\n",
       "    <tr>\n",
       "      <th>3</th>\n",
       "      <td>0.440452</td>\n",
       "      <td>0.331404</td>\n",
       "    </tr>\n",
       "    <tr>\n",
       "      <th>4</th>\n",
       "      <td>0.542972</td>\n",
       "      <td>0.261155</td>\n",
       "    </tr>\n",
       "    <tr>\n",
       "      <th>5</th>\n",
       "      <td>0.944261</td>\n",
       "      <td>0.047889</td>\n",
       "    </tr>\n",
       "    <tr>\n",
       "      <th>6</th>\n",
       "      <td>0.868719</td>\n",
       "      <td>0.003037</td>\n",
       "    </tr>\n",
       "    <tr>\n",
       "      <th>7</th>\n",
       "      <td>0.827926</td>\n",
       "      <td>0.021078</td>\n",
       "    </tr>\n",
       "    <tr>\n",
       "      <th>8</th>\n",
       "      <td>0.766995</td>\n",
       "      <td>0.144593</td>\n",
       "    </tr>\n",
       "  </tbody>\n",
       "</table>\n",
       "</div>"
      ]
     },
     "execution_count": 84,
     "metadata": {},
     "output_type": "execute_result"
    }
   ],
   "execution_count": 84
  },
  {
   "metadata": {
    "ExecuteTime": {
     "end_time": "2024-04-10T21:24:37.012697Z",
     "start_time": "2024-04-10T21:24:37.004088Z"
    }
   },
   "cell_type": "code",
   "source": [
    "# 计算主成分得分\n",
    "# pcl_vector['X1'] = -pcl_vector['X1']\n",
    "X  = dataset - np.mean(dataset, axis=0)\n",
    "X.values.dot(pcl_vector)"
   ],
   "id": "e3395870938be212",
   "outputs": [
    {
     "data": {
      "text/plain": [
       "array([[-118622.1093543 ,   19739.07350328],\n",
       "       [ -38460.51631757,  -12711.95922932],\n",
       "       [  10753.51806511,     546.82038526],\n",
       "       [  25527.52651574,   12637.43874525],\n",
       "       [   9683.99650392,    1015.10787849],\n",
       "       [  18743.80456396,    4736.82380165],\n",
       "       [  23126.63376966,   14505.88779769],\n",
       "       [  23499.15330846,   10402.80369609],\n",
       "       [ -23058.70028996,     632.57588673],\n",
       "       [  -8764.36755364,  -13749.02657475],\n",
       "       [  -9842.50415229,  -12287.57409816],\n",
       "       [   5346.54932648,    1458.22881606],\n",
       "       [  -8227.82933804,    1279.30377552],\n",
       "       [  10724.1019565 ,    1848.40324513],\n",
       "       [ -20483.76168254,  -18902.61325532],\n",
       "       [  21267.77827599,    2717.07683755],\n",
       "       [  14401.38397023,    7477.41950273],\n",
       "       [   6966.90703621,    5667.42887343],\n",
       "       [  -7661.34269948,  -16035.11901933],\n",
       "       [   9559.4314989 ,    5651.42746027],\n",
       "       [  -1632.22003288,    2815.67791257],\n",
       "       [ -24554.781019  ,   -5871.82271412],\n",
       "       [   8043.70436527,   -2489.57062176],\n",
       "       [  -9760.29363233,    7179.34522817],\n",
       "       [  15170.03199154,   -3032.9795713 ],\n",
       "       [  15825.39548637,    4154.54271222],\n",
       "       [  17171.41349206,    -311.78766478],\n",
       "       [  24027.09429353,   -7636.03808062],\n",
       "       [  10942.68676515,   -4179.64059518],\n",
       "       [    287.31488697,   -7257.25463348]])"
      ]
     },
     "execution_count": 85,
     "metadata": {},
     "output_type": "execute_result"
    }
   ],
   "execution_count": 85
  },
  {
   "metadata": {
    "ExecuteTime": {
     "end_time": "2024-04-10T21:46:36.725615Z",
     "start_time": "2024-04-10T21:46:36.196357Z"
    }
   },
   "cell_type": "code",
   "source": [
    "import pandas as pd\n",
    "import numpy as np\n",
    "\n",
    "# 从相关矩阵出发进行主成分分析\n",
    "dataset = pd.read_table('./datas/例5-1.txt', index_col=0, sep='\\t')\n",
    "labels = dataset.columns\n",
    "# 计算相关矩阵Correlation Matrix\n",
    "cor_mat = np.corrcoef(dataset, rowvar=False)\n",
    "# 和标注化后的协方差矩阵对比一下\n",
    "Xscale = (dataset - np.mean(dataset, axis=0)) / np.std(dataset, axis=0)\n",
    "cov_mat_z = np.cov(Xscale, rowvar=False)"
   ],
   "id": "66b4c2acfe0622e0",
   "outputs": [],
   "execution_count": 1
  },
  {
   "metadata": {},
   "cell_type": "markdown",
   "source": "二者大致相似，但还是存在一点不同的，对于**度量单位不同的指标或取值范围彼此差异非常大**的指标，考虑使用标准化后的协方差矩阵求解，或者从相关阵开始求解。",
   "id": "29fd1e40ce99d0ca"
  },
  {
   "metadata": {
    "ExecuteTime": {
     "end_time": "2024-04-10T21:47:17.473324Z",
     "start_time": "2024-04-10T21:47:17.467432Z"
    }
   },
   "cell_type": "code",
   "source": [
    "# 简单对比一下二者特征值\n",
    "eig_value_z, eig_vector_z = np.linalg.eig(cov_mat_z)\n",
    "eig_value, eig_vector = np.linalg.eig(cov_mat_z)\n",
    "# eig_value, eig_vector = np.linalg.eig(cor_mat)\n",
    "print(eig_value_z)\n",
    "print(eig_value)\n",
    "# 二者特征值也不一样，而且都与为标准化矩阵不一样。"
   ],
   "id": "55e12590491d6fb8",
   "outputs": [
    {
     "name": "stdout",
     "output_type": "stream",
     "text": [
      "[6.96812952 0.85056188 0.46885192 0.31537164 0.2949448  0.17775926\n",
      " 0.0575885  0.08167842 0.09545889]\n",
      "[6.96812952 0.85056188 0.46885192 0.31537164 0.2949448  0.17775926\n",
      " 0.0575885  0.08167842 0.09545889]\n"
     ]
    }
   ],
   "execution_count": 6
  },
  {
   "metadata": {
    "ExecuteTime": {
     "end_time": "2024-04-10T21:47:18.219129Z",
     "start_time": "2024-04-10T21:47:18.202668Z"
    }
   },
   "cell_type": "code",
   "source": [
    "# 将特征值与特征向量对应起来，并对其进行排序\n",
    "eigdf = pd.DataFrame(eig_vector.T).join(pd.DataFrame(eig_value, dtype=float, columns=[\"eig_value\"]))\n",
    "eigdf.index = labels\n",
    "eigdf = eigdf.sort_values(\"eig_value\")[::-1]\n",
    "eigdf['cumlam'] = eigdf['eig_value'].apply(lambda x: x/eigdf['eig_value'].sum())\n",
    "eigdf['ccve'] = eigdf['cumlam'].cumsum()\n",
    "eigdf[['eig_value','cumlam','ccve']]"
   ],
   "id": "d4230f3581b2b6ab",
   "outputs": [
    {
     "data": {
      "text/plain": [
       "    eig_value    cumlam      ccve\n",
       "X1   6.968130  0.748429  0.748429\n",
       "X2   0.850562  0.091357  0.839785\n",
       "X3   0.468852  0.050358  0.890144\n",
       "X4   0.315372  0.033873  0.924017\n",
       "X5   0.294945  0.031679  0.955696\n",
       "X6   0.177759  0.019093  0.974789\n",
       "X9   0.095459  0.010253  0.985042\n",
       "X8   0.081678  0.008773  0.993815\n",
       "X7   0.057588  0.006185  1.000000"
      ],
      "text/html": [
       "<div>\n",
       "<style scoped>\n",
       "    .dataframe tbody tr th:only-of-type {\n",
       "        vertical-align: middle;\n",
       "    }\n",
       "\n",
       "    .dataframe tbody tr th {\n",
       "        vertical-align: top;\n",
       "    }\n",
       "\n",
       "    .dataframe thead th {\n",
       "        text-align: right;\n",
       "    }\n",
       "</style>\n",
       "<table border=\"1\" class=\"dataframe\">\n",
       "  <thead>\n",
       "    <tr style=\"text-align: right;\">\n",
       "      <th></th>\n",
       "      <th>eig_value</th>\n",
       "      <th>cumlam</th>\n",
       "      <th>ccve</th>\n",
       "    </tr>\n",
       "  </thead>\n",
       "  <tbody>\n",
       "    <tr>\n",
       "      <th>X1</th>\n",
       "      <td>6.968130</td>\n",
       "      <td>0.748429</td>\n",
       "      <td>0.748429</td>\n",
       "    </tr>\n",
       "    <tr>\n",
       "      <th>X2</th>\n",
       "      <td>0.850562</td>\n",
       "      <td>0.091357</td>\n",
       "      <td>0.839785</td>\n",
       "    </tr>\n",
       "    <tr>\n",
       "      <th>X3</th>\n",
       "      <td>0.468852</td>\n",
       "      <td>0.050358</td>\n",
       "      <td>0.890144</td>\n",
       "    </tr>\n",
       "    <tr>\n",
       "      <th>X4</th>\n",
       "      <td>0.315372</td>\n",
       "      <td>0.033873</td>\n",
       "      <td>0.924017</td>\n",
       "    </tr>\n",
       "    <tr>\n",
       "      <th>X5</th>\n",
       "      <td>0.294945</td>\n",
       "      <td>0.031679</td>\n",
       "      <td>0.955696</td>\n",
       "    </tr>\n",
       "    <tr>\n",
       "      <th>X6</th>\n",
       "      <td>0.177759</td>\n",
       "      <td>0.019093</td>\n",
       "      <td>0.974789</td>\n",
       "    </tr>\n",
       "    <tr>\n",
       "      <th>X9</th>\n",
       "      <td>0.095459</td>\n",
       "      <td>0.010253</td>\n",
       "      <td>0.985042</td>\n",
       "    </tr>\n",
       "    <tr>\n",
       "      <th>X8</th>\n",
       "      <td>0.081678</td>\n",
       "      <td>0.008773</td>\n",
       "      <td>0.993815</td>\n",
       "    </tr>\n",
       "    <tr>\n",
       "      <th>X7</th>\n",
       "      <td>0.057588</td>\n",
       "      <td>0.006185</td>\n",
       "      <td>1.000000</td>\n",
       "    </tr>\n",
       "  </tbody>\n",
       "</table>\n",
       "</div>"
      ]
     },
     "execution_count": 7,
     "metadata": {},
     "output_type": "execute_result"
    }
   ],
   "execution_count": 7
  },
  {
   "metadata": {
    "ExecuteTime": {
     "end_time": "2024-04-10T21:47:19.996702Z",
     "start_time": "2024-04-10T21:47:19.980710Z"
    }
   },
   "cell_type": "code",
   "source": [
    "# 主成分特征向量\n",
    "# 获取与特征值对应的特征向量（排序后）\n",
    "eig_vector = eigdf.iloc[:, :dataset.shape[1]].T\n",
    "n_pcl = 2\n",
    "pcl_vector = eig_vector.iloc[:, :n_pcl]\n",
    "print(f'前{n_pcl}个主成分：')\n",
    "for i in range(pcl_vector.shape[1]):\n",
    "    k = pcl_vector.iloc[:, i]\n",
    "    ss = [f'{k[j]:+.3f}' + f'*X{j+1}' for j in range(len(k))]\n",
    "    print(f'Y{i+1}={\"\".join(ss) if \"\".join(ss).startswith(\"-\") else \"\".join(ss)[1:]}')\n",
    "\n",
    "pcl_vector"
   ],
   "id": "e40c1e7854108ac6",
   "outputs": [
    {
     "name": "stdout",
     "output_type": "stream",
     "text": [
      "前2个主成分：\n",
      "Y1=0.317*X1+0.363*X2+0.295*X3+0.318*X4+0.340*X5+0.319*X6+0.329*X7+0.349*X8+0.365*X9\n",
      "Y2=0.395*X1+0.118*X2+0.237*X3+0.384*X4+0.199*X5-0.565*X6-0.441*X7-0.272*X8-0.020*X9\n"
     ]
    },
    {
     "data": {
      "text/plain": [
       "         X1        X2\n",
       "0  0.316664  0.394507\n",
       "1  0.362564  0.118398\n",
       "2  0.294854  0.237341\n",
       "3  0.317571  0.383605\n",
       "4  0.339904  0.198848\n",
       "5  0.318860 -0.564608\n",
       "6  0.328993 -0.440709\n",
       "7  0.348864 -0.271859\n",
       "8  0.365146 -0.020219"
      ],
      "text/html": [
       "<div>\n",
       "<style scoped>\n",
       "    .dataframe tbody tr th:only-of-type {\n",
       "        vertical-align: middle;\n",
       "    }\n",
       "\n",
       "    .dataframe tbody tr th {\n",
       "        vertical-align: top;\n",
       "    }\n",
       "\n",
       "    .dataframe thead th {\n",
       "        text-align: right;\n",
       "    }\n",
       "</style>\n",
       "<table border=\"1\" class=\"dataframe\">\n",
       "  <thead>\n",
       "    <tr style=\"text-align: right;\">\n",
       "      <th></th>\n",
       "      <th>X1</th>\n",
       "      <th>X2</th>\n",
       "    </tr>\n",
       "  </thead>\n",
       "  <tbody>\n",
       "    <tr>\n",
       "      <th>0</th>\n",
       "      <td>0.316664</td>\n",
       "      <td>0.394507</td>\n",
       "    </tr>\n",
       "    <tr>\n",
       "      <th>1</th>\n",
       "      <td>0.362564</td>\n",
       "      <td>0.118398</td>\n",
       "    </tr>\n",
       "    <tr>\n",
       "      <th>2</th>\n",
       "      <td>0.294854</td>\n",
       "      <td>0.237341</td>\n",
       "    </tr>\n",
       "    <tr>\n",
       "      <th>3</th>\n",
       "      <td>0.317571</td>\n",
       "      <td>0.383605</td>\n",
       "    </tr>\n",
       "    <tr>\n",
       "      <th>4</th>\n",
       "      <td>0.339904</td>\n",
       "      <td>0.198848</td>\n",
       "    </tr>\n",
       "    <tr>\n",
       "      <th>5</th>\n",
       "      <td>0.318860</td>\n",
       "      <td>-0.564608</td>\n",
       "    </tr>\n",
       "    <tr>\n",
       "      <th>6</th>\n",
       "      <td>0.328993</td>\n",
       "      <td>-0.440709</td>\n",
       "    </tr>\n",
       "    <tr>\n",
       "      <th>7</th>\n",
       "      <td>0.348864</td>\n",
       "      <td>-0.271859</td>\n",
       "    </tr>\n",
       "    <tr>\n",
       "      <th>8</th>\n",
       "      <td>0.365146</td>\n",
       "      <td>-0.020219</td>\n",
       "    </tr>\n",
       "  </tbody>\n",
       "</table>\n",
       "</div>"
      ]
     },
     "execution_count": 8,
     "metadata": {},
     "output_type": "execute_result"
    }
   ],
   "execution_count": 8
  },
  {
   "metadata": {
    "ExecuteTime": {
     "end_time": "2024-04-10T21:47:20.977751Z",
     "start_time": "2024-04-10T21:47:20.960914Z"
    }
   },
   "cell_type": "code",
   "source": [
    "# 计算因子载荷矩阵\n",
    "# 取出前两个特征值，开方后，将其对角化\n",
    "eigmat = np.diag(np.sqrt(eig_value[:n_pcl]))\n",
    "# 特征向量分别矩阵乘 对角化矩阵\n",
    "loadings = pcl_vector.dot(eigmat)\n",
    "# 载荷矩阵\n",
    "loadings"
   ],
   "id": "56244d518a42160d",
   "outputs": [
    {
     "data": {
      "text/plain": [
       "          0         1\n",
       "0  0.835906  0.363838\n",
       "1  0.957069  0.109194\n",
       "2  0.778333  0.218890\n",
       "3  0.838300  0.353784\n",
       "4  0.897252  0.183389\n",
       "5  0.841701 -0.520714\n",
       "6  0.868450 -0.406448\n",
       "7  0.920903 -0.250724\n",
       "8  0.963883 -0.018648"
      ],
      "text/html": [
       "<div>\n",
       "<style scoped>\n",
       "    .dataframe tbody tr th:only-of-type {\n",
       "        vertical-align: middle;\n",
       "    }\n",
       "\n",
       "    .dataframe tbody tr th {\n",
       "        vertical-align: top;\n",
       "    }\n",
       "\n",
       "    .dataframe thead th {\n",
       "        text-align: right;\n",
       "    }\n",
       "</style>\n",
       "<table border=\"1\" class=\"dataframe\">\n",
       "  <thead>\n",
       "    <tr style=\"text-align: right;\">\n",
       "      <th></th>\n",
       "      <th>0</th>\n",
       "      <th>1</th>\n",
       "    </tr>\n",
       "  </thead>\n",
       "  <tbody>\n",
       "    <tr>\n",
       "      <th>0</th>\n",
       "      <td>0.835906</td>\n",
       "      <td>0.363838</td>\n",
       "    </tr>\n",
       "    <tr>\n",
       "      <th>1</th>\n",
       "      <td>0.957069</td>\n",
       "      <td>0.109194</td>\n",
       "    </tr>\n",
       "    <tr>\n",
       "      <th>2</th>\n",
       "      <td>0.778333</td>\n",
       "      <td>0.218890</td>\n",
       "    </tr>\n",
       "    <tr>\n",
       "      <th>3</th>\n",
       "      <td>0.838300</td>\n",
       "      <td>0.353784</td>\n",
       "    </tr>\n",
       "    <tr>\n",
       "      <th>4</th>\n",
       "      <td>0.897252</td>\n",
       "      <td>0.183389</td>\n",
       "    </tr>\n",
       "    <tr>\n",
       "      <th>5</th>\n",
       "      <td>0.841701</td>\n",
       "      <td>-0.520714</td>\n",
       "    </tr>\n",
       "    <tr>\n",
       "      <th>6</th>\n",
       "      <td>0.868450</td>\n",
       "      <td>-0.406448</td>\n",
       "    </tr>\n",
       "    <tr>\n",
       "      <th>7</th>\n",
       "      <td>0.920903</td>\n",
       "      <td>-0.250724</td>\n",
       "    </tr>\n",
       "    <tr>\n",
       "      <th>8</th>\n",
       "      <td>0.963883</td>\n",
       "      <td>-0.018648</td>\n",
       "    </tr>\n",
       "  </tbody>\n",
       "</table>\n",
       "</div>"
      ]
     },
     "execution_count": 9,
     "metadata": {},
     "output_type": "execute_result"
    }
   ],
   "execution_count": 9
  },
  {
   "metadata": {},
   "cell_type": "markdown",
   "source": "由于$\\sigma_{ii}=1$，因子载荷等价于：$\\rho(Y_k,Z_i)=\\gamma_{ik}\\sqrt{\\lambda_k}$，所求的特征向量，loadings及主成分得分同上也有所区别。",
   "id": "3de9fa12f87d02ea"
  },
  {
   "metadata": {
    "ExecuteTime": {
     "end_time": "2024-04-10T21:18:20.824549Z",
     "start_time": "2024-04-10T21:18:20.817757Z"
    }
   },
   "cell_type": "code",
   "source": "Xscale.values.dot(pcl_vector)",
   "id": "95e2fe04c50dc82c",
   "outputs": [
    {
     "data": {
      "text/plain": [
       "array([[ 8.46338640e+00, -3.27245648e+00],\n",
       "       [ 4.62470701e+00,  5.58678777e-01],\n",
       "       [-9.26364070e-01,  1.10781900e-02],\n",
       "       [-3.67992520e+00, -8.11217892e-01],\n",
       "       [-9.49407006e-01,  5.15467986e-01],\n",
       "       [-2.15154910e+00, -1.04698977e-01],\n",
       "       [-3.50203989e+00, -1.28843376e+00],\n",
       "       [-3.13013101e+00, -5.16332908e-01],\n",
       "       [ 1.98398631e+00, -5.88537476e-01],\n",
       "       [ 2.21012302e+00,  1.06872374e+00],\n",
       "       [ 2.25634250e+00,  1.16399211e+00],\n",
       "       [-5.63626777e-01,  2.22275549e-01],\n",
       "       [ 7.31948882e-01,  5.38430796e-01],\n",
       "       [-1.28438678e+00, -2.61397312e-01],\n",
       "       [ 4.01887743e+00,  1.78243172e+00],\n",
       "       [-2.03063403e+00, -1.82972207e-01],\n",
       "       [-2.03048411e+00, -4.69520491e-01],\n",
       "       [-1.09307044e+00, -5.11787204e-01],\n",
       "       [ 2.28053424e+00,  7.51463248e-01],\n",
       "       [-1.47036273e+00, -2.26820162e-01],\n",
       "       [ 4.04829168e-03, -2.72592485e-01],\n",
       "       [ 2.74887680e+00,  4.56299022e-01],\n",
       "       [-4.84147739e-01, -3.02053981e-02],\n",
       "       [-7.65567515e-03, -7.52102402e-01],\n",
       "       [-8.62701888e-01,  1.57959178e-01],\n",
       "       [-1.91228675e+00, -5.52279590e-01],\n",
       "       [-1.50691044e+00,  1.91832364e-01],\n",
       "       [-1.63328627e+00,  7.50377990e-01],\n",
       "       [-5.81259771e-01,  6.84084717e-01],\n",
       "       [ 4.77398774e-01,  9.88259359e-01]])"
      ]
     },
     "execution_count": 50,
     "metadata": {},
     "output_type": "execute_result"
    }
   ],
   "execution_count": 50
  },
  {
   "metadata": {
    "ExecuteTime": {
     "end_time": "2024-04-10T23:53:31.542969Z",
     "start_time": "2024-04-10T23:53:31.296718Z"
    }
   },
   "cell_type": "code",
   "source": [
    "# 目前可以实现主成分分析的方法有很多，这里以sklearn 中的PCA为例\n",
    "import pandas as pd\n",
    "import numpy as np\n",
    "from sklearn.decomposition import PCA\n",
    "# 从相关矩阵出发进行主成分分析\n",
    "dataset = pd.read_table('./datas/例5-1.txt', index_col=0, sep='\\t')\n",
    "labels = dataset.columns\n",
    "Xscale = (dataset - np.mean(dataset, axis=0)) / np.std(dataset, axis=0)\n",
    "# Xscale = dataset\n",
    "pca = PCA(n_components=Xscale.shape[1])\n",
    "pca.fit(Xscale)\n",
    "# 查看特征值：\n",
    "print(f'特征值：\\n{pca.explained_variance_}')\n",
    "print('这里的结果与基于标准化后的协方差的计算结果一致')\n",
    "print(f'方差贡献率:\\n{pca.explained_variance_ratio_}')"
   ],
   "id": "426eee230bbe8eba",
   "outputs": [
    {
     "name": "stdout",
     "output_type": "stream",
     "text": [
      "特征值：\n",
      "[6.96812952 0.85056188 0.46885192 0.31537164 0.2949448  0.17775926\n",
      " 0.09545889 0.08167842 0.0575885 ]\n",
      "这里的结果与基于标准化后的协方差的计算结果一致\n",
      "方差贡献率:\n",
      "[0.74842873 0.09135665 0.05035817 0.03387325 0.03167926 0.01909266\n",
      " 0.01025299 0.00877287 0.00618543]\n"
     ]
    }
   ],
   "execution_count": 1
  },
  {
   "metadata": {
    "ExecuteTime": {
     "end_time": "2024-04-10T23:54:28.836722Z",
     "start_time": "2024-04-10T23:54:28.821506Z"
    }
   },
   "cell_type": "code",
   "source": [
    "# 确定保留两个主成分\n",
    "n_components=2\n",
    "# pca.components_\n",
    "print(f'特征向量：\\n{pca.components_.T[:,:n_components]}')\n",
    "# 查看特征向量：同样与基于协方差的一致\n",
    "# 计算因子载荷\n",
    "# pcl_vector = eig_vector.iloc[:, :n_pcl]\n",
    "eigmat = np.diag(np.sqrt(pca.explained_variance_[:n_components]))\n",
    "# 特征向量分别矩阵乘 对角化矩阵\n",
    "loadings = (pca.components_.T[:,:n_components]).dot(eigmat)\n",
    "loadings"
   ],
   "id": "9534680e81a42980",
   "outputs": [
    {
     "name": "stdout",
     "output_type": "stream",
     "text": [
      "特征向量：\n",
      "[[ 0.31666448 -0.39450707]\n",
      " [ 0.36256429 -0.1183979 ]\n",
      " [ 0.2948543  -0.23734085]\n",
      " [ 0.31757129 -0.38360546]\n",
      " [ 0.33990407 -0.19884783]\n",
      " [ 0.31885986  0.56460752]\n",
      " [ 0.32899311  0.44070884]\n",
      " [ 0.34886367  0.27185855]\n",
      " [ 0.36514579  0.02021943]]\n"
     ]
    },
    {
     "data": {
      "text/plain": [
       "array([[ 0.83590603, -0.36383774],\n",
       "       [ 0.95706875, -0.10919354],\n",
       "       [ 0.77833323, -0.21888976],\n",
       "       [ 0.83829976, -0.35378363],\n",
       "       [ 0.89725207, -0.18338922],\n",
       "       [ 0.84170123,  0.52071443],\n",
       "       [ 0.86845017,  0.40644775],\n",
       "       [ 0.92090293,  0.25072403],\n",
       "       [ 0.96388318,  0.01864755]])"
      ]
     },
     "execution_count": 6,
     "metadata": {},
     "output_type": "execute_result"
    }
   ],
   "execution_count": 6
  },
  {
   "metadata": {
    "ExecuteTime": {
     "end_time": "2024-04-10T23:54:33.254390Z",
     "start_time": "2024-04-10T23:54:33.248152Z"
    }
   },
   "cell_type": "code",
   "source": [
    "# 主成分得分；得分也是相同的\n",
    "pca.transform(Xscale)[:,:n_components]"
   ],
   "id": "646794169df9f1f5",
   "outputs": [
    {
     "data": {
      "text/plain": [
       "array([[ 8.46338640e+00,  3.27245648e+00],\n",
       "       [ 4.62470701e+00, -5.58678777e-01],\n",
       "       [-9.26364070e-01, -1.10781900e-02],\n",
       "       [-3.67992520e+00,  8.11217892e-01],\n",
       "       [-9.49407006e-01, -5.15467986e-01],\n",
       "       [-2.15154910e+00,  1.04698977e-01],\n",
       "       [-3.50203989e+00,  1.28843376e+00],\n",
       "       [-3.13013101e+00,  5.16332908e-01],\n",
       "       [ 1.98398631e+00,  5.88537476e-01],\n",
       "       [ 2.21012302e+00, -1.06872374e+00],\n",
       "       [ 2.25634250e+00, -1.16399211e+00],\n",
       "       [-5.63626777e-01, -2.22275549e-01],\n",
       "       [ 7.31948882e-01, -5.38430796e-01],\n",
       "       [-1.28438678e+00,  2.61397312e-01],\n",
       "       [ 4.01887743e+00, -1.78243172e+00],\n",
       "       [-2.03063403e+00,  1.82972207e-01],\n",
       "       [-2.03048411e+00,  4.69520491e-01],\n",
       "       [-1.09307044e+00,  5.11787204e-01],\n",
       "       [ 2.28053424e+00, -7.51463248e-01],\n",
       "       [-1.47036273e+00,  2.26820162e-01],\n",
       "       [ 4.04829168e-03,  2.72592485e-01],\n",
       "       [ 2.74887680e+00, -4.56299022e-01],\n",
       "       [-4.84147739e-01,  3.02053981e-02],\n",
       "       [-7.65567515e-03,  7.52102402e-01],\n",
       "       [-8.62701888e-01, -1.57959178e-01],\n",
       "       [-1.91228675e+00,  5.52279590e-01],\n",
       "       [-1.50691044e+00, -1.91832364e-01],\n",
       "       [-1.63328627e+00, -7.50377990e-01],\n",
       "       [-5.81259771e-01, -6.84084717e-01],\n",
       "       [ 4.77398774e-01, -9.88259359e-01]])"
      ]
     },
     "execution_count": 7,
     "metadata": {},
     "output_type": "execute_result"
    }
   ],
   "execution_count": 7
  },
  {
   "metadata": {},
   "cell_type": "markdown",
   "source": "总结：PCA函数完全基于协方差的方式求解主成分，但是在计算主成分最终得分时，选择先减去均值，我不知着为什么。",
   "id": "cbc937a4f2aa2b06"
  }
 ],
 "metadata": {
  "kernelspec": {
   "display_name": "Python 3",
   "language": "python",
   "name": "python3"
  },
  "language_info": {
   "codemirror_mode": {
    "name": "ipython",
    "version": 2
   },
   "file_extension": ".py",
   "mimetype": "text/x-python",
   "name": "python",
   "nbconvert_exporter": "python",
   "pygments_lexer": "ipython2",
   "version": "2.7.6"
  }
 },
 "nbformat": 4,
 "nbformat_minor": 5
}
